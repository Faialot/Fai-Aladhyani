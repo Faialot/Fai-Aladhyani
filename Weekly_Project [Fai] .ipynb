{
 "cells": [
  {
   "cell_type": "markdown",
   "id": "5749a10a",
   "metadata": {},
   "source": [
    "# Weekly Project 2!"
   ]
  },
  {
   "cell_type": "markdown",
   "id": "92d44841",
   "metadata": {},
   "source": [
    "## Introduction to Road Traffic Accidents (RTA) Dataset\n",
    "\n",
    "### Dataset Overview\n",
    "The RTA Dataset provides a detailed snapshot of road traffic accidents, capturing a range of data from accident conditions to casualty details. This dataset is essential for analyzing patterns and causes of accidents to improve road safety.\n",
    "\n",
    "### Data Characteristics\n",
    "- **Entries**: The dataset contains 12,316 entries.\n",
    "- **Features**: There are 32 features in the dataset, which include:\n",
    "  - `Time`: Time when the accident occurred.\n",
    "  - `Day_of_week`: Day of the week.\n",
    "  - `Age_band_of_driver`: Age group of the driver involved.\n",
    "  - `Sex_of_driver`: Gender of the driver.\n",
    "  - `Educational_level`: Educational level of the driver.\n",
    "  - `Type_of_vehicle`: Type of vehicle involved in the accident.\n",
    "  - `Cause_of_accident`: Reported cause of the accident.\n",
    "  - `Accident_severity`: Severity of the accident.\n",
    "- **Target Column**: `Accident_severity` is used as the target column for modeling. This feature classifies the severity of each accident.\n",
    "\n",
    "### Objective\n",
    "Students will use this dataset to apply various data visualization, modeling, and evaluation techniques learned in class. The primary goal is to build models that can accurately predict the severity of accidents and to identify the key factors that contribute to severe accidents."
   ]
  },
  {
   "cell_type": "markdown",
   "id": "177291c2",
   "metadata": {},
   "source": [
    "## Import Libraries\n",
    "Import all the necessary libraries here. Include libraries for handling data (like pandas), visualization (like matplotlib and seaborn), and modeling (like scikit-learn)."
   ]
  },
  {
   "cell_type": "code",
   "execution_count": 148,
   "id": "2ad2bd0e",
   "metadata": {},
   "outputs": [],
   "source": [
    "import pandas as pd\n",
    "import numpy as np\n",
    "import matplotlib.pyplot as plt\n",
    "import seaborn as sns\n",
    "from sklearn.model_selection import train_test_split\n",
    "from pandas.core.common import random_state\n",
    "from sklearn.linear_model import LinearRegression\n",
    "from sklearn.preprocessing import StandardScaler\n",
    "from sklearn.preprocessing import OneHotEncoder\n",
    "from sklearn import tree\n",
    "from sklearn.datasets import load_iris\n",
    "from sklearn import svm\n",
    "from sklearn.neighbors import KNeighborsClassifier  \n",
    "from sklearn.ensemble import RandomForestClassifier\n",
    "\n",
    "from sklearn.metrics import accuracy_score, classification_report, confusion_matrix, roc_auc_score, roc_curve"
   ]
  },
  {
   "cell_type": "markdown",
   "id": "5f236af2",
   "metadata": {},
   "source": [
    "## Load Data\n",
    "Load the dataset from the provided CSV file into a DataFrame."
   ]
  },
  {
   "cell_type": "code",
   "execution_count": 5,
   "id": "2d3f76e8",
   "metadata": {},
   "outputs": [],
   "source": [
    "df = pd.read_csv('RTA_Dataset.csv')"
   ]
  },
  {
   "cell_type": "markdown",
   "id": "b9215c2f",
   "metadata": {},
   "source": [
    "## Exploratory Data Analysis (EDA)\n",
    "Perform EDA to understand the data better. This involves several steps to summarize the main characteristics, uncover patterns, and establish relationships:\n",
    "* Find the dataset information and observe the datatypes.\n",
    "* Check the shape of the data to understand its structure.\n",
    "* View the the data with various functions to get an initial sense of the data.\n",
    "* Perform summary statistics on the dataset to grasp central tendencies and variability.\n",
    "* Check for duplicated data.\n",
    "* Check for null values.\n",
    "\n",
    "And apply more if needed!\n"
   ]
  },
  {
   "cell_type": "code",
   "execution_count": 7,
   "id": "b206f836",
   "metadata": {},
   "outputs": [
    {
     "name": "stdout",
     "output_type": "stream",
     "text": [
      "<class 'pandas.core.frame.DataFrame'>\n",
      "RangeIndex: 12316 entries, 0 to 12315\n",
      "Data columns (total 32 columns):\n",
      " #   Column                       Non-Null Count  Dtype \n",
      "---  ------                       --------------  ----- \n",
      " 0   Time                         12316 non-null  object\n",
      " 1   Day_of_week                  12316 non-null  object\n",
      " 2   Age_band_of_driver           12316 non-null  object\n",
      " 3   Sex_of_driver                12316 non-null  object\n",
      " 4   Educational_level            11575 non-null  object\n",
      " 5   Vehicle_driver_relation      11737 non-null  object\n",
      " 6   Driving_experience           11487 non-null  object\n",
      " 7   Type_of_vehicle              11366 non-null  object\n",
      " 8   Owner_of_vehicle             11834 non-null  object\n",
      " 9   Service_year_of_vehicle      8388 non-null   object\n",
      " 10  Defect_of_vehicle            7889 non-null   object\n",
      " 11  Area_accident_occured        12077 non-null  object\n",
      " 12  Lanes_or_Medians             11931 non-null  object\n",
      " 13  Road_allignment              12174 non-null  object\n",
      " 14  Types_of_Junction            11429 non-null  object\n",
      " 15  Road_surface_type            12144 non-null  object\n",
      " 16  Road_surface_conditions      12316 non-null  object\n",
      " 17  Light_conditions             12316 non-null  object\n",
      " 18  Weather_conditions           12316 non-null  object\n",
      " 19  Type_of_collision            12161 non-null  object\n",
      " 20  Number_of_vehicles_involved  12316 non-null  int64 \n",
      " 21  Number_of_casualties         12316 non-null  int64 \n",
      " 22  Vehicle_movement             12008 non-null  object\n",
      " 23  Casualty_class               12316 non-null  object\n",
      " 24  Sex_of_casualty              12316 non-null  object\n",
      " 25  Age_band_of_casualty         12316 non-null  object\n",
      " 26  Casualty_severity            12316 non-null  object\n",
      " 27  Work_of_casuality            9118 non-null   object\n",
      " 28  Fitness_of_casuality         9681 non-null   object\n",
      " 29  Pedestrian_movement          12316 non-null  object\n",
      " 30  Cause_of_accident            12316 non-null  object\n",
      " 31  Accident_severity            12316 non-null  object\n",
      "dtypes: int64(2), object(30)\n",
      "memory usage: 3.0+ MB\n"
     ]
    }
   ],
   "source": [
    "df.info()"
   ]
  },
  {
   "cell_type": "code",
   "execution_count": 11,
   "id": "e460e1c0-930d-47bb-822d-ccb4fae21452",
   "metadata": {},
   "outputs": [
    {
     "data": {
      "text/plain": [
       "(12316, 32)"
      ]
     },
     "execution_count": 11,
     "metadata": {},
     "output_type": "execute_result"
    }
   ],
   "source": [
    "df.shape"
   ]
  },
  {
   "cell_type": "code",
   "execution_count": null,
   "id": "5e9f3719-e63f-45a2-9130-657b991de24e",
   "metadata": {},
   "outputs": [],
   "source": []
  },
  {
   "cell_type": "code",
   "execution_count": 13,
   "id": "33ffba35-ffb8-4b40-9a6f-868020d85048",
   "metadata": {},
   "outputs": [
    {
     "data": {
      "text/html": [
       "<div>\n",
       "<style scoped>\n",
       "    .dataframe tbody tr th:only-of-type {\n",
       "        vertical-align: middle;\n",
       "    }\n",
       "\n",
       "    .dataframe tbody tr th {\n",
       "        vertical-align: top;\n",
       "    }\n",
       "\n",
       "    .dataframe thead th {\n",
       "        text-align: right;\n",
       "    }\n",
       "</style>\n",
       "<table border=\"1\" class=\"dataframe\">\n",
       "  <thead>\n",
       "    <tr style=\"text-align: right;\">\n",
       "      <th></th>\n",
       "      <th>Number_of_vehicles_involved</th>\n",
       "      <th>Number_of_casualties</th>\n",
       "    </tr>\n",
       "  </thead>\n",
       "  <tbody>\n",
       "    <tr>\n",
       "      <th>count</th>\n",
       "      <td>12316.000000</td>\n",
       "      <td>12316.000000</td>\n",
       "    </tr>\n",
       "    <tr>\n",
       "      <th>mean</th>\n",
       "      <td>2.040679</td>\n",
       "      <td>1.548149</td>\n",
       "    </tr>\n",
       "    <tr>\n",
       "      <th>std</th>\n",
       "      <td>0.688790</td>\n",
       "      <td>1.007179</td>\n",
       "    </tr>\n",
       "    <tr>\n",
       "      <th>min</th>\n",
       "      <td>1.000000</td>\n",
       "      <td>1.000000</td>\n",
       "    </tr>\n",
       "    <tr>\n",
       "      <th>25%</th>\n",
       "      <td>2.000000</td>\n",
       "      <td>1.000000</td>\n",
       "    </tr>\n",
       "    <tr>\n",
       "      <th>50%</th>\n",
       "      <td>2.000000</td>\n",
       "      <td>1.000000</td>\n",
       "    </tr>\n",
       "    <tr>\n",
       "      <th>75%</th>\n",
       "      <td>2.000000</td>\n",
       "      <td>2.000000</td>\n",
       "    </tr>\n",
       "    <tr>\n",
       "      <th>max</th>\n",
       "      <td>7.000000</td>\n",
       "      <td>8.000000</td>\n",
       "    </tr>\n",
       "  </tbody>\n",
       "</table>\n",
       "</div>"
      ],
      "text/plain": [
       "       Number_of_vehicles_involved  Number_of_casualties\n",
       "count                 12316.000000          12316.000000\n",
       "mean                      2.040679              1.548149\n",
       "std                       0.688790              1.007179\n",
       "min                       1.000000              1.000000\n",
       "25%                       2.000000              1.000000\n",
       "50%                       2.000000              1.000000\n",
       "75%                       2.000000              2.000000\n",
       "max                       7.000000              8.000000"
      ]
     },
     "execution_count": 13,
     "metadata": {},
     "output_type": "execute_result"
    }
   ],
   "source": [
    "df.describe()"
   ]
  },
  {
   "cell_type": "code",
   "execution_count": 15,
   "id": "af210895-f1e4-43a9-af16-5708456657d9",
   "metadata": {},
   "outputs": [
    {
     "data": {
      "text/plain": [
       "0"
      ]
     },
     "execution_count": 15,
     "metadata": {},
     "output_type": "execute_result"
    }
   ],
   "source": [
    "df.duplicated().sum()"
   ]
  },
  {
   "cell_type": "code",
   "execution_count": 17,
   "id": "ef3fb3a9-750a-4d99-ba5a-a11966dc562f",
   "metadata": {},
   "outputs": [
    {
     "data": {
      "text/plain": [
       "Time                              0\n",
       "Day_of_week                       0\n",
       "Age_band_of_driver                0\n",
       "Sex_of_driver                     0\n",
       "Educational_level               741\n",
       "Vehicle_driver_relation         579\n",
       "Driving_experience              829\n",
       "Type_of_vehicle                 950\n",
       "Owner_of_vehicle                482\n",
       "Service_year_of_vehicle        3928\n",
       "Defect_of_vehicle              4427\n",
       "Area_accident_occured           239\n",
       "Lanes_or_Medians                385\n",
       "Road_allignment                 142\n",
       "Types_of_Junction               887\n",
       "Road_surface_type               172\n",
       "Road_surface_conditions           0\n",
       "Light_conditions                  0\n",
       "Weather_conditions                0\n",
       "Type_of_collision               155\n",
       "Number_of_vehicles_involved       0\n",
       "Number_of_casualties              0\n",
       "Vehicle_movement                308\n",
       "Casualty_class                    0\n",
       "Sex_of_casualty                   0\n",
       "Age_band_of_casualty              0\n",
       "Casualty_severity                 0\n",
       "Work_of_casuality              3198\n",
       "Fitness_of_casuality           2635\n",
       "Pedestrian_movement               0\n",
       "Cause_of_accident                 0\n",
       "Accident_severity                 0\n",
       "dtype: int64"
      ]
     },
     "execution_count": 17,
     "metadata": {},
     "output_type": "execute_result"
    }
   ],
   "source": [
    "df.isnull().sum()"
   ]
  },
  {
   "cell_type": "code",
   "execution_count": 24,
   "id": "a2d6d7bc-2bc4-4ee9-9324-a794b42c0f43",
   "metadata": {},
   "outputs": [
    {
     "data": {
      "text/plain": [
       "Index(['Time', 'Day_of_week', 'Age_band_of_driver', 'Sex_of_driver',\n",
       "       'Educational_level', 'Vehicle_driver_relation', 'Driving_experience',\n",
       "       'Type_of_vehicle', 'Owner_of_vehicle', 'Service_year_of_vehicle',\n",
       "       'Defect_of_vehicle', 'Area_accident_occured', 'Lanes_or_Medians',\n",
       "       'Road_allignment', 'Types_of_Junction', 'Road_surface_type',\n",
       "       'Road_surface_conditions', 'Light_conditions', 'Weather_conditions',\n",
       "       'Type_of_collision', 'Number_of_vehicles_involved',\n",
       "       'Number_of_casualties', 'Vehicle_movement', 'Casualty_class',\n",
       "       'Sex_of_casualty', 'Age_band_of_casualty', 'Casualty_severity',\n",
       "       'Work_of_casuality', 'Fitness_of_casuality', 'Pedestrian_movement',\n",
       "       'Cause_of_accident', 'Accident_severity'],\n",
       "      dtype='object')"
      ]
     },
     "execution_count": 24,
     "metadata": {},
     "output_type": "execute_result"
    }
   ],
   "source": [
    "df.columns"
   ]
  },
  {
   "cell_type": "markdown",
   "id": "a7047714-745b-49b3-aa90-31751b64d956",
   "metadata": {},
   "source": [
    "## Data Preprocessing\n",
    "Data preprocessing is essential for transforming raw data into a format suitable for further analysis and modeling. Follow these steps to ensure your data is ready for predictive modeling or advanced analytics:\n",
    "- **Handling Missing Values**: Replace missing values with appropriate statistics (mean, median, mode) or use more complex imputation techniques.\n",
    "- **Normalization/Scaling**: Scale data to a small, specified range like 0 to 1, or transform it to have a mean of zero and a standard deviation of one.\n",
    "- **Label Encoding**: Convert categorical text data into model-understandable numbers where the labels are ordered.\n",
    "- **One-Hot Encoding**: Use for nominal categorical data where no ordinal relationship exists to transform the data into a binary column for each category. (Be careful not to increase the dimensionality significantly)\n",
    "- **Detection and Treatment of Outliers**: Use statistical tests, box plots, or scatter plots to identify outliers and then cap, trim, or use robust methods to reduce the effect of outliers, depending on the context.\n",
    "- **Feature Engineering**: Enhance your dataset by creating new features and transforming existing ones. This might involve combining data from different columns, applying transformations, or reducing dimensionality with techniques like PCA to improve model performance.\n",
    "\n",
    "Consider these steps as a foundation, and feel free to introduce additional preprocessing techniques as needed to address specific characteristics of your dataset."
   ]
  },
  {
   "cell_type": "code",
   "execution_count": 32,
   "id": "14c4a6fd",
   "metadata": {},
   "outputs": [],
   "source": [
    "#Handling Missing Values\n",
    "df['Educational_level'] = df['Educational_level'].fillna(df['Educational_level'].mode()[0])\n",
    "df['Vehicle_driver_relation'] = df['Vehicle_driver_relation'].fillna(df['Vehicle_driver_relation'].mode()[0])\n",
    "df['Driving_experience'] = df['Driving_experience'].fillna(df['Driving_experience'].mode()[0])\n",
    "df['Type_of_vehicle'] = df['Type_of_vehicle'].fillna(df['Type_of_vehicle'].mode()[0])\n",
    "df['Owner_of_vehicle'] = df['Owner_of_vehicle'].fillna(df['Owner_of_vehicle'].mode()[0])\n",
    "df['Service_year_of_vehicle'] = df['Service_year_of_vehicle'].fillna(df['Service_year_of_vehicle'].mode()[0])\n",
    "df['Defect_of_vehicle'] = df['Defect_of_vehicle'].fillna(df['Defect_of_vehicle'].mode()[0])\n",
    "df['Area_accident_occured'] = df['Area_accident_occured'].fillna(df['Area_accident_occured'].mode()[0])\n",
    "df['Lanes_or_Medians'] = df['Lanes_or_Medians'].fillna(df['Lanes_or_Medians'].mode()[0])\n",
    "df['Road_allignment'] = df['Road_allignment'].fillna(df['Road_allignment'].mode()[0])\n",
    "df['Types_of_Junction'] = df['Types_of_Junction'].fillna(df['Types_of_Junction'].mode()[0])\n",
    "df['Road_surface_type'] = df['Road_surface_type'].fillna(df['Road_surface_type'].mode()[0])\n",
    "df['Type_of_collision'] = df['Type_of_collision'].fillna(df['Type_of_collision'].mode()[0])\n",
    "df['Vehicle_movement'] = df['Vehicle_movement'].fillna(df['Vehicle_movement'].mode()[0])\n",
    "df['Work_of_casuality'] = df['Work_of_casuality'].fillna(df['Work_of_casuality'].mode()[0])\n",
    "df['Fitness_of_casuality'] = df['Fitness_of_casuality'].fillna(df['Fitness_of_casuality'].mode()[0])\n",
    "\n",
    "\n",
    "\n",
    "\n",
    "\n",
    "#"
   ]
  },
  {
   "cell_type": "code",
   "execution_count": 34,
   "id": "fadb9d2e-8f6e-4d12-aeba-581466eb7590",
   "metadata": {},
   "outputs": [
    {
     "data": {
      "text/plain": [
       "Time                           0\n",
       "Day_of_week                    0\n",
       "Age_band_of_driver             0\n",
       "Sex_of_driver                  0\n",
       "Educational_level              0\n",
       "Vehicle_driver_relation        0\n",
       "Driving_experience             0\n",
       "Type_of_vehicle                0\n",
       "Owner_of_vehicle               0\n",
       "Service_year_of_vehicle        0\n",
       "Defect_of_vehicle              0\n",
       "Area_accident_occured          0\n",
       "Lanes_or_Medians               0\n",
       "Road_allignment                0\n",
       "Types_of_Junction              0\n",
       "Road_surface_type              0\n",
       "Road_surface_conditions        0\n",
       "Light_conditions               0\n",
       "Weather_conditions             0\n",
       "Type_of_collision              0\n",
       "Number_of_vehicles_involved    0\n",
       "Number_of_casualties           0\n",
       "Vehicle_movement               0\n",
       "Casualty_class                 0\n",
       "Sex_of_casualty                0\n",
       "Age_band_of_casualty           0\n",
       "Casualty_severity              0\n",
       "Work_of_casuality              0\n",
       "Fitness_of_casuality           0\n",
       "Pedestrian_movement            0\n",
       "Cause_of_accident              0\n",
       "Accident_severity              0\n",
       "dtype: int64"
      ]
     },
     "execution_count": 34,
     "metadata": {},
     "output_type": "execute_result"
    }
   ],
   "source": [
    "df.isnull().sum()"
   ]
  },
  {
   "cell_type": "code",
   "execution_count": null,
   "id": "9ea22b71-7abc-4425-8473-faf41de55e91",
   "metadata": {},
   "outputs": [],
   "source": []
  },
  {
   "cell_type": "code",
   "execution_count": 46,
   "id": "44771e0b-5e6b-4de3-af12-8260ada40df4",
   "metadata": {},
   "outputs": [],
   "source": [
    "#Normalization/Scaling\n",
    "scaler = StandardScaler()\n",
    "df_scal = df[['Number_of_vehicles_involved', 'Number_of_casualties']]\n",
    "df_scal= scaler.fit_transform(df_scal)"
   ]
  },
  {
   "cell_type": "code",
   "execution_count": 56,
   "id": "df3e6e84-4189-4062-ae8d-81c24ea3bb35",
   "metadata": {},
   "outputs": [],
   "source": [
    "#Label Encoding\n",
    "from sklearn.preprocessing import LabelEncoder\n",
    "le = LabelEncoder()\n",
    "df['Cause_of_accident'] = le.fit_transform(df['Cause_of_accident'])\n"
   ]
  },
  {
   "cell_type": "code",
   "execution_count": 40,
   "id": "124f7b23-2148-4cd7-8fac-b39d3563b363",
   "metadata": {},
   "outputs": [
    {
     "name": "stdout",
     "output_type": "stream",
     "text": [
      "[[0. 0. 0. ... 0. 0. 1.]\n",
      " [0. 0. 0. ... 0. 0. 1.]\n",
      " [0. 0. 0. ... 0. 1. 0.]\n",
      " ...\n",
      " [0. 0. 0. ... 0. 1. 0.]\n",
      " [0. 0. 0. ... 0. 0. 1.]\n",
      " [0. 0. 0. ... 0. 0. 1.]]\n"
     ]
    }
   ],
   "source": [
    "#One-Hot Encoding\n",
    "\n",
    "encoder = OneHotEncoder(sparse_output=False)\n",
    "encoded_data = encoder.fit_transform(df)\n",
    "\n",
    "print(encoded_data)"
   ]
  },
  {
   "cell_type": "code",
   "execution_count": null,
   "id": "8caca841-ab41-4332-bdd9-5701f561235f",
   "metadata": {},
   "outputs": [],
   "source": [
    "#Detection and Treatment of Outliers\n",
    "\n"
   ]
  },
  {
   "cell_type": "code",
   "execution_count": null,
   "id": "8d7b4931-8447-452d-8af4-c898ce728388",
   "metadata": {},
   "outputs": [],
   "source": [
    "#Feature Engineering"
   ]
  },
  {
   "cell_type": "markdown",
   "id": "82114cd3-b926-47a6-9575-00df6483419c",
   "metadata": {},
   "source": [
    "## Data Visualization\n",
    "Create various plots to visualize the relationships in the data. Consider using the following to show different aspects of the data:\n",
    "\n",
    "* Heatmap of Correlation Matrix.\n",
    "* Line plots.\n",
    "* Scatter plots.\n",
    "* Histograms.\n",
    "* Boxplots.\n",
    "\n",
    "Use more if needed!"
   ]
  },
  {
   "cell_type": "code",
   "execution_count": 66,
   "id": "5cfa25ae",
   "metadata": {},
   "outputs": [
    {
     "data": {
      "text/plain": [
       "<Axes: >"
      ]
     },
     "execution_count": 66,
     "metadata": {},
     "output_type": "execute_result"
    },
    {
     "data": {
      "image/png": "[encoded data removed]",
      "text/plain": [
       "<Figure size 640x480 with 2 Axes>"
      ]
     },
     "metadata": {},
     "output_type": "display_data"
    }
   ],
   "source": [
    "#Heatmap of Correlation Matrix.\n",
    "\n",
    "col_num =df[['Number_of_vehicles_involved' ,'Number_of_casualties' ]]\n",
    "\n",
    "Cm =col_num.corr()\n",
    "\n",
    "sns.heatmap(Cm, annot = True  )"
   ]
  },
  {
   "cell_type": "code",
   "execution_count": 68,
   "id": "4dc6bf5c-962d-4056-908d-5c100762b52d",
   "metadata": {},
   "outputs": [
    {
     "data": {
      "text/plain": [
       "<Axes: >"
      ]
     },
     "execution_count": 68,
     "metadata": {},
     "output_type": "execute_result"
    },
    {
     "data": {
      "image/png": "[encoded data removed]",
      "text/plain": [
       "<Figure size 640x480 with 1 Axes>"
      ]
     },
     "metadata": {},
     "output_type": "display_data"
    }
   ],
   "source": [
    "#Histograms.\n",
    "df['Age_band_of_driver'].hist()\n"
   ]
  },
  {
   "cell_type": "markdown",
   "id": "40ce1d71",
   "metadata": {},
   "source": [
    "## Feature Selection\n",
    "- Choose features that you believe will most influence the outcome based on your analysis and the insights from your visualizations. Focus on those that appear most impactful to include in your modeling.\n",
    "\n",
    "## Train-Test Split\n",
    "* Divide the dataset into training and testing sets to evaluate the performance of your models."
   ]
  },
  {
   "cell_type": "code",
   "execution_count": 82,
   "id": "f6570748",
   "metadata": {},
   "outputs": [
    {
     "name": "stdout",
     "output_type": "stream",
     "text": [
      "X_train : \n",
      "          Time Day_of_week Age_band_of_driver Sex_of_driver  \\\n",
      "7770   2:15:00    Saturday              18-30          Male   \n",
      "1261  12:45:00    Saturday              31-50          Male   \n",
      "9804  16:05:00     Tuesday            Over 51          Male   \n",
      "4175  22:30:00    Saturday           Under 18          Male   \n",
      "526   13:28:00      Monday              18-30          Male   \n",
      "\n",
      "       Educational_level Vehicle_driver_relation Driving_experience  \\\n",
      "7770  Junior high school                Employee          Below 1yr   \n",
      "1261  Junior high school                Employee         Above 10yr   \n",
      "9804  Junior high school                Employee             5-10yr   \n",
      "4175  Junior high school                Employee             5-10yr   \n",
      "526   Junior high school                   Owner         Above 10yr   \n",
      "\n",
      "        Type_of_vehicle Owner_of_vehicle Service_year_of_vehicle  ...  \\\n",
      "7770  Public (12 seats)            Owner                  2-5yrs  ...   \n",
      "1261         Long lorry            Owner                 Unknown  ...   \n",
      "9804         Automobile            Owner                 Unknown  ...   \n",
      "4175       Stationwagen            Owner                 Unknown  ...   \n",
      "526          Automobile            Owner                 5-10yrs  ...   \n",
      "\n",
      "     Number_of_casualties Vehicle_movement Casualty_class Sex_of_casualty  \\\n",
      "7770                    1   Going straight             na              na   \n",
      "1261                    2   Going straight      Passenger          Female   \n",
      "9804                    1         Turnover             na              na   \n",
      "4175                    1            Other     Pedestrian          Female   \n",
      "526                     1   Going straight             na              na   \n",
      "\n",
      "     Age_band_of_casualty Casualty_severity Work_of_casuality  \\\n",
      "7770                   na                na            Driver   \n",
      "1261              Over 51                 3            Driver   \n",
      "9804                   na                na            Driver   \n",
      "4175                31-50                 3            Driver   \n",
      "526                    na                na            Driver   \n",
      "\n",
      "     Pedestrian_movement Cause_of_accident Accident_severity  \n",
      "7770    Not a Pedestrian                12     Slight Injury  \n",
      "1261    Not a Pedestrian                16     Slight Injury  \n",
      "9804    Not a Pedestrian                 3    Serious Injury  \n",
      "4175    Not a Pedestrian                13     Slight Injury  \n",
      "526     Not a Pedestrian                10     Slight Injury  \n",
      "\n",
      "[5 rows x 31 columns]\n",
      "\n",
      "X_test : \n",
      "           Time Day_of_week Age_band_of_driver Sex_of_driver  \\\n",
      "10515   4:00:00      Friday              18-30          Male   \n",
      "450     9:05:00      Monday              31-50          Male   \n",
      "1295   19:25:00      Friday            Over 51          Male   \n",
      "7324    7:15:00   Wednesday           Under 18          Male   \n",
      "\n",
      "        Educational_level Vehicle_driver_relation Driving_experience  \\\n",
      "10515  Junior high school                Employee         Above 10yr   \n",
      "450    Junior high school                Employee         Above 10yr   \n",
      "1295          High school                Employee         Above 10yr   \n",
      "7324   Junior high school                Employee              2-5yr   \n",
      "\n",
      "       Type_of_vehicle Owner_of_vehicle Service_year_of_vehicle  ...  \\\n",
      "10515  Lorry (41?100Q)            Owner                 Unknown  ...   \n",
      "450              Other            Owner                 Unknown  ...   \n",
      "1295        Automobile            Owner                 Unknown  ...   \n",
      "7324        Automobile            Owner                   1-2yr  ...   \n",
      "\n",
      "      Number_of_casualties Vehicle_movement   Casualty_class Sex_of_casualty  \\\n",
      "10515                    1   Going straight               na              na   \n",
      "450                      1   Going straight       Pedestrian          Female   \n",
      "1295                     1  Moving Backward        Passenger          Female   \n",
      "7324                     1   Going straight  Driver or rider            Male   \n",
      "\n",
      "      Age_band_of_casualty Casualty_severity Work_of_casuality  \\\n",
      "10515                   na                na             Other   \n",
      "450                  31-50                 3            Driver   \n",
      "1295               Over 51                 3     Self-employed   \n",
      "7324                 31-50                 3            Driver   \n",
      "\n",
      "                   Pedestrian_movement Cause_of_accident Accident_severity  \n",
      "10515                 Not a Pedestrian                10     Slight Injury  \n",
      "450    Crossing from driver's nearside                 0     Slight Injury  \n",
      "1295                  Not a Pedestrian                11    Serious Injury  \n",
      "7324                  Not a Pedestrian                18     Slight Injury  \n",
      "\n",
      "[4 rows x 31 columns]\n",
      "\n",
      "y_train : \n",
      "7770    Normal\n",
      "1261    Normal\n",
      "9804    Normal\n",
      "4175    Normal\n",
      "526     Normal\n",
      "Name: Fitness_of_casuality, dtype: object\n",
      "\n",
      "y_test : \n",
      "10515    Normal\n",
      "450      Normal\n",
      "1295     Normal\n",
      "7324     Normal\n",
      "Name: Fitness_of_casuality, dtype: object\n"
     ]
    }
   ],
   "source": [
    "#training model \n",
    "\n",
    "X = df.drop(columns = ['Fitness_of_casuality'])\n",
    "Y = df['Fitness_of_casuality']\n",
    "x_train , x_test , y_train , y_test = train_test_split(X, Y, test_size=4, random_state=4)\n",
    "\n",
    "print('X_train : ') \n",
    "print(x_train.head()) \n",
    "print('') \n",
    "print('X_test : ') \n",
    "print(x_test.head()) \n",
    "print('') \n",
    "print('y_train : ') \n",
    "print(y_train.head()) \n",
    "print('') \n",
    "print('y_test : ') \n",
    "print(y_test.head())"
   ]
  },
  {
   "cell_type": "markdown",
   "id": "e74a5058",
   "metadata": {},
   "source": [
    "## Modeling\n",
    "\n",
    "Once the data is split into training and testing sets, the next step is to build models to make predictions. Here, we will explore several machine learning algorithms, each with its unique characteristics and suitability for different types of data and problems. You will implement the following models:\n",
    "\n",
    "### 1. Logistic Regression\n",
    "\n",
    "### 2. Decision Tree Classifier\n",
    "\n",
    "### 3. Support Vector Machine (SVM)\n",
    "\n",
    "### 4. K-Neighbors Classifier\n",
    "\n",
    "### Implementing the Models\n",
    "- For each model, use the training data you have prepared to train the model."
   ]
  },
  {
   "cell_type": "markdown",
   "id": "1a6c9815",
   "metadata": {},
   "source": [
    "#### Logistic Regression"
   ]
  },
  {
   "cell_type": "code",
   "execution_count": 146,
   "id": "d35137d1",
   "metadata": {},
   "outputs": [
    {
     "name": "stdout",
     "output_type": "stream",
     "text": [
      "Coefficients: \n",
      " [[0.14660131]]\n",
      "Mean squared error: 0.36\n",
      "Coefficient of determination: -0.56\n"
     ]
    },
    {
     "data": {
      "image/png": "[encoded data removed]",
      "text/plain": [
       "<Figure size 640x480 with 1 Axes>"
      ]
     },
     "metadata": {},
     "output_type": "display_data"
    }
   ],
   "source": [
    "import matplotlib.pyplot as plt\n",
    "import numpy as np\n",
    "\n",
    "\n",
    "from sklearn import linear_model\n",
    "from sklearn.metrics import mean_squared_error, r2_score\n",
    "\n",
    "# Load the new dataset from a CSV file on your desktop\n",
    "\n",
    "\n",
    "df_X = df[['Number_of_casualties']]\n",
    "df_y = df[['Number_of_vehicles_involved']]\n",
    "\n",
    "\n",
    "\n",
    "# Split the data into training/testing sets\n",
    "df_X_train = df_X[:-70]\n",
    "df_X_test = df_X[-30:]\n",
    "\n",
    "# Split the targets into training/testing sets\n",
    "df_y_train = df_y[:-70]\n",
    "df_y_test = df_y[-30:]\n",
    "\n",
    "# Create linear regression object\n",
    "regr = linear_model.LinearRegression()\n",
    "\n",
    "# Train the model using the training sets\n",
    "regr.fit(df_X_train, df_y_train)\n",
    "\n",
    "# Make predictions using the testing set\n",
    "y_pred = regr.predict(df_X_test)\n",
    "\n",
    "# The coefficients\n",
    "print(\"Coefficients: \\n\", regr.coef_)\n",
    "# The mean squared error\n",
    "print(\"Mean squared error: %.2f\" % mean_squared_error(df_y_test, y_pred))\n",
    "# The coefficient of determination: 1 is perfect prediction\n",
    "print(\"Coefficient of determination: %.2f\" % r2_score(df_y_test, y_pred))\n",
    "\n",
    "# Plot outputs\n",
    "plt.scatter(df_X_test, df_y_test, color=\"black\")\n",
    "plt.plot(df_X_test, y_pred, color=\"blue\", linewidth=3)\n",
    "\n",
    "plt.xticks(())\n",
    "plt.yticks(())\n",
    "\n",
    "plt.show()"
   ]
  },
  {
   "cell_type": "markdown",
   "id": "0cfd5ecb",
   "metadata": {},
   "source": [
    "#### Decision Tree Classifier"
   ]
  },
  {
   "cell_type": "code",
   "execution_count": 96,
   "id": "0ba4edd5",
   "metadata": {},
   "outputs": [
    {
     "data": {
      "text/plain": [
       "[Text(0.5, 0.9166666666666666, 'x[2] <= 2.45\\ngini = 0.667\\nsamples = 150\\nvalue = [50, 50, 50]'),\n",
       " Text(0.4230769230769231, 0.75, 'gini = 0.0\\nsamples = 50\\nvalue = [50, 0, 0]'),\n",
       " Text(0.46153846153846156, 0.8333333333333333, 'True  '),\n",
       " Text(0.5769230769230769, 0.75, 'x[3] <= 1.75\\ngini = 0.5\\nsamples = 100\\nvalue = [0, 50, 50]'),\n",
       " Text(0.5384615384615384, 0.8333333333333333, '  False'),\n",
       " Text(0.3076923076923077, 0.5833333333333334, 'x[2] <= 4.95\\ngini = 0.168\\nsamples = 54\\nvalue = [0, 49, 5]'),\n",
       " Text(0.15384615384615385, 0.4166666666666667, 'x[3] <= 1.65\\ngini = 0.041\\nsamples = 48\\nvalue = [0, 47, 1]'),\n",
       " Text(0.07692307692307693, 0.25, 'gini = 0.0\\nsamples = 47\\nvalue = [0, 47, 0]'),\n",
       " Text(0.23076923076923078, 0.25, 'gini = 0.0\\nsamples = 1\\nvalue = [0, 0, 1]'),\n",
       " Text(0.46153846153846156, 0.4166666666666667, 'x[3] <= 1.55\\ngini = 0.444\\nsamples = 6\\nvalue = [0, 2, 4]'),\n",
       " Text(0.38461538461538464, 0.25, 'gini = 0.0\\nsamples = 3\\nvalue = [0, 0, 3]'),\n",
       " Text(0.5384615384615384, 0.25, 'x[2] <= 5.45\\ngini = 0.444\\nsamples = 3\\nvalue = [0, 2, 1]'),\n",
       " Text(0.46153846153846156, 0.08333333333333333, 'gini = 0.0\\nsamples = 2\\nvalue = [0, 2, 0]'),\n",
       " Text(0.6153846153846154, 0.08333333333333333, 'gini = 0.0\\nsamples = 1\\nvalue = [0, 0, 1]'),\n",
       " Text(0.8461538461538461, 0.5833333333333334, 'x[2] <= 4.85\\ngini = 0.043\\nsamples = 46\\nvalue = [0, 1, 45]'),\n",
       " Text(0.7692307692307693, 0.4166666666666667, 'x[0] <= 5.95\\ngini = 0.444\\nsamples = 3\\nvalue = [0, 1, 2]'),\n",
       " Text(0.6923076923076923, 0.25, 'gini = 0.0\\nsamples = 1\\nvalue = [0, 1, 0]'),\n",
       " Text(0.8461538461538461, 0.25, 'gini = 0.0\\nsamples = 2\\nvalue = [0, 0, 2]'),\n",
       " Text(0.9230769230769231, 0.4166666666666667, 'gini = 0.0\\nsamples = 43\\nvalue = [0, 0, 43]')]"
      ]
     },
     "execution_count": 96,
     "metadata": {},
     "output_type": "execute_result"
    },
    {
     "data": {
      "image/png": "[encoded data removed]",
      "text/plain": [
       "<Figure size 640x480 with 1 Axes>"
      ]
     },
     "metadata": {},
     "output_type": "display_data"
    }
   ],
   "source": [
    "X = df[['Number_of_casualties']]\n",
    "Y = df[['Number_of_vehicles_involved']]\n",
    "clf = tree.DecisionTreeClassifier()\n",
    "clf = clf.fit(X, Y)\n",
    "iris = load_iris()\n",
    "X, y = iris.data, iris.target\n",
    "\n",
    "clf = tree.DecisionTreeClassifier()\n",
    "clf = clf.fit(X, y)\n",
    "tree.plot_tree(clf)\n"
   ]
  },
  {
   "cell_type": "markdown",
   "id": "7ce21487",
   "metadata": {},
   "source": [
    "#### Support Vector Machine (SVM)"
   ]
  },
  {
   "cell_type": "code",
   "execution_count": 112,
   "id": "6f448f26",
   "metadata": {},
   "outputs": [
    {
     "name": "stderr",
     "output_type": "stream",
     "text": [
      "/opt/anaconda3/lib/python3.12/site-packages/sklearn/utils/validation.py:1339: DataConversionWarning: A column-vector y was passed when a 1d array was expected. Please change the shape of y to (n_samples, ), for example using ravel().\n",
      "  y = column_or_1d(y, warn=True)\n"
     ]
    },
    {
     "data": {
      "text/html": [
       "<style>#sk-container-id-3 {\n",
       "  /* Definition of color scheme common for light and dark mode */\n",
       "  --sklearn-color-text: black;\n",
       "  --sklearn-color-line: gray;\n",
       "  /* Definition of color scheme for unfitted estimators */\n",
       "  --sklearn-color-unfitted-level-0: #fff5e6;\n",
       "  --sklearn-color-unfitted-level-1: #f6e4d2;\n",
       "  --sklearn-color-unfitted-level-2: #ffe0b3;\n",
       "  --sklearn-color-unfitted-level-3: chocolate;\n",
       "  /* Definition of color scheme for fitted estimators */\n",
       "  --sklearn-color-fitted-level-0: #f0f8ff;\n",
       "  --sklearn-color-fitted-level-1: #d4ebff;\n",
       "  --sklearn-color-fitted-level-2: #b3dbfd;\n",
       "  --sklearn-color-fitted-level-3: cornflowerblue;\n",
       "\n",
       "  /* Specific color for light theme */\n",
       "  --sklearn-color-text-on-default-background: var(--sg-text-color, var(--theme-code-foreground, var(--jp-content-font-color1, black)));\n",
       "  --sklearn-color-background: var(--sg-background-color, var(--theme-background, var(--jp-layout-color0, white)));\n",
       "  --sklearn-color-border-box: var(--sg-text-color, var(--theme-code-foreground, var(--jp-content-font-color1, black)));\n",
       "  --sklearn-color-icon: #696969;\n",
       "\n",
       "  @media (prefers-color-scheme: dark) {\n",
       "    /* Redefinition of color scheme for dark theme */\n",
       "    --sklearn-color-text-on-default-background: var(--sg-text-color, var(--theme-code-foreground, var(--jp-content-font-color1, white)));\n",
       "    --sklearn-color-background: var(--sg-background-color, var(--theme-background, var(--jp-layout-color0, #111)));\n",
       "    --sklearn-color-border-box: var(--sg-text-color, var(--theme-code-foreground, var(--jp-content-font-color1, white)));\n",
       "    --sklearn-color-icon: #878787;\n",
       "  }\n",
       "}\n",
       "\n",
       "#sk-container-id-3 {\n",
       "  color: var(--sklearn-color-text);\n",
       "}\n",
       "\n",
       "#sk-container-id-3 pre {\n",
       "  padding: 0;\n",
       "}\n",
       "\n",
       "#sk-container-id-3 input.sk-hidden--visually {\n",
       "  border: 0;\n",
       "  clip: rect(1px 1px 1px 1px);\n",
       "  clip: rect(1px, 1px, 1px, 1px);\n",
       "  height: 1px;\n",
       "  margin: -1px;\n",
       "  overflow: hidden;\n",
       "  padding: 0;\n",
       "  position: absolute;\n",
       "  width: 1px;\n",
       "}\n",
       "\n",
       "#sk-container-id-3 div.sk-dashed-wrapped {\n",
       "  border: 1px dashed var(--sklearn-color-line);\n",
       "  margin: 0 0.4em 0.5em 0.4em;\n",
       "  box-sizing: border-box;\n",
       "  padding-bottom: 0.4em;\n",
       "  background-color: var(--sklearn-color-background);\n",
       "}\n",
       "\n",
       "#sk-container-id-3 div.sk-container {\n",
       "  /* jupyter's `normalize.less` sets `[hidden] { display: none; }`\n",
       "     but bootstrap.min.css set `[hidden] { display: none !important; }`\n",
       "     so we also need the `!important` here to be able to override the\n",
       "     default hidden behavior on the sphinx rendered scikit-learn.org.\n",
       "     See: https://github.com/scikit-learn/scikit-learn/issues/21755 */\n",
       "  display: inline-block !important;\n",
       "  position: relative;\n",
       "}\n",
       "\n",
       "#sk-container-id-3 div.sk-text-repr-fallback {\n",
       "  display: none;\n",
       "}\n",
       "\n",
       "div.sk-parallel-item,\n",
       "div.sk-serial,\n",
       "div.sk-item {\n",
       "  /* draw centered vertical line to link estimators */\n",
       "  background-image: linear-gradient(var(--sklearn-color-text-on-default-background), var(--sklearn-color-text-on-default-background));\n",
       "  background-size: 2px 100%;\n",
       "  background-repeat: no-repeat;\n",
       "  background-position: center center;\n",
       "}\n",
       "\n",
       "/* Parallel-specific style estimator block */\n",
       "\n",
       "#sk-container-id-3 div.sk-parallel-item::after {\n",
       "  content: \"\";\n",
       "  width: 100%;\n",
       "  border-bottom: 2px solid var(--sklearn-color-text-on-default-background);\n",
       "  flex-grow: 1;\n",
       "}\n",
       "\n",
       "#sk-container-id-3 div.sk-parallel {\n",
       "  display: flex;\n",
       "  align-items: stretch;\n",
       "  justify-content: center;\n",
       "  background-color: var(--sklearn-color-background);\n",
       "  position: relative;\n",
       "}\n",
       "\n",
       "#sk-container-id-3 div.sk-parallel-item {\n",
       "  display: flex;\n",
       "  flex-direction: column;\n",
       "}\n",
       "\n",
       "#sk-container-id-3 div.sk-parallel-item:first-child::after {\n",
       "  align-self: flex-end;\n",
       "  width: 50%;\n",
       "}\n",
       "\n",
       "#sk-container-id-3 div.sk-parallel-item:last-child::after {\n",
       "  align-self: flex-start;\n",
       "  width: 50%;\n",
       "}\n",
       "\n",
       "#sk-container-id-3 div.sk-parallel-item:only-child::after {\n",
       "  width: 0;\n",
       "}\n",
       "\n",
       "/* Serial-specific style estimator block */\n",
       "\n",
       "#sk-container-id-3 div.sk-serial {\n",
       "  display: flex;\n",
       "  flex-direction: column;\n",
       "  align-items: center;\n",
       "  background-color: var(--sklearn-color-background);\n",
       "  padding-right: 1em;\n",
       "  padding-left: 1em;\n",
       "}\n",
       "\n",
       "\n",
       "/* Toggleable style: style used for estimator/Pipeline/ColumnTransformer box that is\n",
       "clickable and can be expanded/collapsed.\n",
       "- Pipeline and ColumnTransformer use this feature and define the default style\n",
       "- Estimators will overwrite some part of the style using the `sk-estimator` class\n",
       "*/\n",
       "\n",
       "/* Pipeline and ColumnTransformer style (default) */\n",
       "\n",
       "#sk-container-id-3 div.sk-toggleable {\n",
       "  /* Default theme specific background. It is overwritten whether we have a\n",
       "  specific estimator or a Pipeline/ColumnTransformer */\n",
       "  background-color: var(--sklearn-color-background);\n",
       "}\n",
       "\n",
       "/* Toggleable label */\n",
       "#sk-container-id-3 label.sk-toggleable__label {\n",
       "  cursor: pointer;\n",
       "  display: block;\n",
       "  width: 100%;\n",
       "  margin-bottom: 0;\n",
       "  padding: 0.5em;\n",
       "  box-sizing: border-box;\n",
       "  text-align: center;\n",
       "}\n",
       "\n",
       "#sk-container-id-3 label.sk-toggleable__label-arrow:before {\n",
       "  /* Arrow on the left of the label */\n",
       "  content: \"▸\";\n",
       "  float: left;\n",
       "  margin-right: 0.25em;\n",
       "  color: var(--sklearn-color-icon);\n",
       "}\n",
       "\n",
       "#sk-container-id-3 label.sk-toggleable__label-arrow:hover:before {\n",
       "  color: var(--sklearn-color-text);\n",
       "}\n",
       "\n",
       "/* Toggleable content - dropdown */\n",
       "\n",
       "#sk-container-id-3 div.sk-toggleable__content {\n",
       "  max-height: 0;\n",
       "  max-width: 0;\n",
       "  overflow: hidden;\n",
       "  text-align: left;\n",
       "  /* unfitted */\n",
       "  background-color: var(--sklearn-color-unfitted-level-0);\n",
       "}\n",
       "\n",
       "#sk-container-id-3 div.sk-toggleable__content.fitted {\n",
       "  /* fitted */\n",
       "  background-color: var(--sklearn-color-fitted-level-0);\n",
       "}\n",
       "\n",
       "#sk-container-id-3 div.sk-toggleable__content pre {\n",
       "  margin: 0.2em;\n",
       "  border-radius: 0.25em;\n",
       "  color: var(--sklearn-color-text);\n",
       "  /* unfitted */\n",
       "  background-color: var(--sklearn-color-unfitted-level-0);\n",
       "}\n",
       "\n",
       "#sk-container-id-3 div.sk-toggleable__content.fitted pre {\n",
       "  /* unfitted */\n",
       "  background-color: var(--sklearn-color-fitted-level-0);\n",
       "}\n",
       "\n",
       "#sk-container-id-3 input.sk-toggleable__control:checked~div.sk-toggleable__content {\n",
       "  /* Expand drop-down */\n",
       "  max-height: 200px;\n",
       "  max-width: 100%;\n",
       "  overflow: auto;\n",
       "}\n",
       "\n",
       "#sk-container-id-3 input.sk-toggleable__control:checked~label.sk-toggleable__label-arrow:before {\n",
       "  content: \"▾\";\n",
       "}\n",
       "\n",
       "/* Pipeline/ColumnTransformer-specific style */\n",
       "\n",
       "#sk-container-id-3 div.sk-label input.sk-toggleable__control:checked~label.sk-toggleable__label {\n",
       "  color: var(--sklearn-color-text);\n",
       "  background-color: var(--sklearn-color-unfitted-level-2);\n",
       "}\n",
       "\n",
       "#sk-container-id-3 div.sk-label.fitted input.sk-toggleable__control:checked~label.sk-toggleable__label {\n",
       "  background-color: var(--sklearn-color-fitted-level-2);\n",
       "}\n",
       "\n",
       "/* Estimator-specific style */\n",
       "\n",
       "/* Colorize estimator box */\n",
       "#sk-container-id-3 div.sk-estimator input.sk-toggleable__control:checked~label.sk-toggleable__label {\n",
       "  /* unfitted */\n",
       "  background-color: var(--sklearn-color-unfitted-level-2);\n",
       "}\n",
       "\n",
       "#sk-container-id-3 div.sk-estimator.fitted input.sk-toggleable__control:checked~label.sk-toggleable__label {\n",
       "  /* fitted */\n",
       "  background-color: var(--sklearn-color-fitted-level-2);\n",
       "}\n",
       "\n",
       "#sk-container-id-3 div.sk-label label.sk-toggleable__label,\n",
       "#sk-container-id-3 div.sk-label label {\n",
       "  /* The background is the default theme color */\n",
       "  color: var(--sklearn-color-text-on-default-background);\n",
       "}\n",
       "\n",
       "/* On hover, darken the color of the background */\n",
       "#sk-container-id-3 div.sk-label:hover label.sk-toggleable__label {\n",
       "  color: var(--sklearn-color-text);\n",
       "  background-color: var(--sklearn-color-unfitted-level-2);\n",
       "}\n",
       "\n",
       "/* Label box, darken color on hover, fitted */\n",
       "#sk-container-id-3 div.sk-label.fitted:hover label.sk-toggleable__label.fitted {\n",
       "  color: var(--sklearn-color-text);\n",
       "  background-color: var(--sklearn-color-fitted-level-2);\n",
       "}\n",
       "\n",
       "/* Estimator label */\n",
       "\n",
       "#sk-container-id-3 div.sk-label label {\n",
       "  font-family: monospace;\n",
       "  font-weight: bold;\n",
       "  display: inline-block;\n",
       "  line-height: 1.2em;\n",
       "}\n",
       "\n",
       "#sk-container-id-3 div.sk-label-container {\n",
       "  text-align: center;\n",
       "}\n",
       "\n",
       "/* Estimator-specific */\n",
       "#sk-container-id-3 div.sk-estimator {\n",
       "  font-family: monospace;\n",
       "  border: 1px dotted var(--sklearn-color-border-box);\n",
       "  border-radius: 0.25em;\n",
       "  box-sizing: border-box;\n",
       "  margin-bottom: 0.5em;\n",
       "  /* unfitted */\n",
       "  background-color: var(--sklearn-color-unfitted-level-0);\n",
       "}\n",
       "\n",
       "#sk-container-id-3 div.sk-estimator.fitted {\n",
       "  /* fitted */\n",
       "  background-color: var(--sklearn-color-fitted-level-0);\n",
       "}\n",
       "\n",
       "/* on hover */\n",
       "#sk-container-id-3 div.sk-estimator:hover {\n",
       "  /* unfitted */\n",
       "  background-color: var(--sklearn-color-unfitted-level-2);\n",
       "}\n",
       "\n",
       "#sk-container-id-3 div.sk-estimator.fitted:hover {\n",
       "  /* fitted */\n",
       "  background-color: var(--sklearn-color-fitted-level-2);\n",
       "}\n",
       "\n",
       "/* Specification for estimator info (e.g. \"i\" and \"?\") */\n",
       "\n",
       "/* Common style for \"i\" and \"?\" */\n",
       "\n",
       ".sk-estimator-doc-link,\n",
       "a:link.sk-estimator-doc-link,\n",
       "a:visited.sk-estimator-doc-link {\n",
       "  float: right;\n",
       "  font-size: smaller;\n",
       "  line-height: 1em;\n",
       "  font-family: monospace;\n",
       "  background-color: var(--sklearn-color-background);\n",
       "  border-radius: 1em;\n",
       "  height: 1em;\n",
       "  width: 1em;\n",
       "  text-decoration: none !important;\n",
       "  margin-left: 1ex;\n",
       "  /* unfitted */\n",
       "  border: var(--sklearn-color-unfitted-level-1) 1pt solid;\n",
       "  color: var(--sklearn-color-unfitted-level-1);\n",
       "}\n",
       "\n",
       ".sk-estimator-doc-link.fitted,\n",
       "a:link.sk-estimator-doc-link.fitted,\n",
       "a:visited.sk-estimator-doc-link.fitted {\n",
       "  /* fitted */\n",
       "  border: var(--sklearn-color-fitted-level-1) 1pt solid;\n",
       "  color: var(--sklearn-color-fitted-level-1);\n",
       "}\n",
       "\n",
       "/* On hover */\n",
       "div.sk-estimator:hover .sk-estimator-doc-link:hover,\n",
       ".sk-estimator-doc-link:hover,\n",
       "div.sk-label-container:hover .sk-estimator-doc-link:hover,\n",
       ".sk-estimator-doc-link:hover {\n",
       "  /* unfitted */\n",
       "  background-color: var(--sklearn-color-unfitted-level-3);\n",
       "  color: var(--sklearn-color-background);\n",
       "  text-decoration: none;\n",
       "}\n",
       "\n",
       "div.sk-estimator.fitted:hover .sk-estimator-doc-link.fitted:hover,\n",
       ".sk-estimator-doc-link.fitted:hover,\n",
       "div.sk-label-container:hover .sk-estimator-doc-link.fitted:hover,\n",
       ".sk-estimator-doc-link.fitted:hover {\n",
       "  /* fitted */\n",
       "  background-color: var(--sklearn-color-fitted-level-3);\n",
       "  color: var(--sklearn-color-background);\n",
       "  text-decoration: none;\n",
       "}\n",
       "\n",
       "/* Span, style for the box shown on hovering the info icon */\n",
       ".sk-estimator-doc-link span {\n",
       "  display: none;\n",
       "  z-index: 9999;\n",
       "  position: relative;\n",
       "  font-weight: normal;\n",
       "  right: .2ex;\n",
       "  padding: .5ex;\n",
       "  margin: .5ex;\n",
       "  width: min-content;\n",
       "  min-width: 20ex;\n",
       "  max-width: 50ex;\n",
       "  color: var(--sklearn-color-text);\n",
       "  box-shadow: 2pt 2pt 4pt #999;\n",
       "  /* unfitted */\n",
       "  background: var(--sklearn-color-unfitted-level-0);\n",
       "  border: .5pt solid var(--sklearn-color-unfitted-level-3);\n",
       "}\n",
       "\n",
       ".sk-estimator-doc-link.fitted span {\n",
       "  /* fitted */\n",
       "  background: var(--sklearn-color-fitted-level-0);\n",
       "  border: var(--sklearn-color-fitted-level-3);\n",
       "}\n",
       "\n",
       ".sk-estimator-doc-link:hover span {\n",
       "  display: block;\n",
       "}\n",
       "\n",
       "/* \"?\"-specific style due to the `<a>` HTML tag */\n",
       "\n",
       "#sk-container-id-3 a.estimator_doc_link {\n",
       "  float: right;\n",
       "  font-size: 1rem;\n",
       "  line-height: 1em;\n",
       "  font-family: monospace;\n",
       "  background-color: var(--sklearn-color-background);\n",
       "  border-radius: 1rem;\n",
       "  height: 1rem;\n",
       "  width: 1rem;\n",
       "  text-decoration: none;\n",
       "  /* unfitted */\n",
       "  color: var(--sklearn-color-unfitted-level-1);\n",
       "  border: var(--sklearn-color-unfitted-level-1) 1pt solid;\n",
       "}\n",
       "\n",
       "#sk-container-id-3 a.estimator_doc_link.fitted {\n",
       "  /* fitted */\n",
       "  border: var(--sklearn-color-fitted-level-1) 1pt solid;\n",
       "  color: var(--sklearn-color-fitted-level-1);\n",
       "}\n",
       "\n",
       "/* On hover */\n",
       "#sk-container-id-3 a.estimator_doc_link:hover {\n",
       "  /* unfitted */\n",
       "  background-color: var(--sklearn-color-unfitted-level-3);\n",
       "  color: var(--sklearn-color-background);\n",
       "  text-decoration: none;\n",
       "}\n",
       "\n",
       "#sk-container-id-3 a.estimator_doc_link.fitted:hover {\n",
       "  /* fitted */\n",
       "  background-color: var(--sklearn-color-fitted-level-3);\n",
       "}\n",
       "</style><div id=\"sk-container-id-3\" class=\"sk-top-container\"><div class=\"sk-text-repr-fallback\"><pre>SVC()</pre><b>In a Jupyter environment, please rerun this cell to show the HTML representation or trust the notebook. <br />On GitHub, the HTML representation is unable to render, please try loading this page with nbviewer.org.</b></div><div class=\"sk-container\" hidden><div class=\"sk-item\"><div class=\"sk-estimator fitted sk-toggleable\"><input class=\"sk-toggleable__control sk-hidden--visually\" id=\"sk-estimator-id-3\" type=\"checkbox\" checked><label for=\"sk-estimator-id-3\" class=\"sk-toggleable__label fitted sk-toggleable__label-arrow fitted\">&nbsp;&nbsp;SVC<a class=\"sk-estimator-doc-link fitted\" rel=\"noreferrer\" target=\"_blank\" href=\"https://scikit-learn.org/1.5/modules/generated/sklearn.svm.SVC.html\">?<span>Documentation for SVC</span></a><span class=\"sk-estimator-doc-link fitted\">i<span>Fitted</span></span></label><div class=\"sk-toggleable__content fitted\"><pre>SVC()</pre></div> </div></div></div></div>"
      ],
      "text/plain": [
       "SVC()"
      ]
     },
     "execution_count": 112,
     "metadata": {},
     "output_type": "execute_result"
    }
   ],
   "source": [
    "X = df[['Number_of_casualties']]\n",
    "y = df[['Number_of_vehicles_involved']]\n",
    "\n",
    "clf = svm.SVC()\n",
    "clf.fit(X, y)\n"
   ]
  },
  {
   "cell_type": "markdown",
   "id": "f3656932",
   "metadata": {},
   "source": [
    "#### K-Neighbors Classifier"
   ]
  },
  {
   "cell_type": "code",
   "execution_count": 192,
   "id": "c8c73d33",
   "metadata": {},
   "outputs": [
    {
     "name": "stderr",
     "output_type": "stream",
     "text": [
      "/opt/anaconda3/lib/python3.12/site-packages/sklearn/neighbors/_classification.py:238: DataConversionWarning: A column-vector y was passed when a 1d array was expected. Please change the shape of y to (n_samples,), for example using ravel().\n",
      "  return self._fit(X, y)\n",
      "/opt/anaconda3/lib/python3.12/site-packages/sklearn/neighbors/_classification.py:238: DataConversionWarning: A column-vector y was passed when a 1d array was expected. Please change the shape of y to (n_samples,), for example using ravel().\n",
      "  return self._fit(X, y)\n"
     ]
    },
    {
     "name": "stdout",
     "output_type": "stream",
     "text": [
      "[1 1 1 1 1 1 1 1 1 1 1 1 1 1 1 1 1 1 1 1 1 1 2 2 1 1 1 1 1 1]\n"
     ]
    },
    {
     "name": "stderr",
     "output_type": "stream",
     "text": [
      "/opt/anaconda3/lib/python3.12/site-packages/sklearn/neighbors/_classification.py:238: DataConversionWarning: A column-vector y was passed when a 1d array was expected. Please change the shape of y to (n_samples,), for example using ravel().\n",
      "  return self._fit(X, y)\n",
      "/opt/anaconda3/lib/python3.12/site-packages/sklearn/neighbors/_classification.py:238: DataConversionWarning: A column-vector y was passed when a 1d array was expected. Please change the shape of y to (n_samples,), for example using ravel().\n",
      "  return self._fit(X, y)\n",
      "/opt/anaconda3/lib/python3.12/site-packages/sklearn/neighbors/_classification.py:238: DataConversionWarning: A column-vector y was passed when a 1d array was expected. Please change the shape of y to (n_samples,), for example using ravel().\n",
      "  return self._fit(X, y)\n",
      "/opt/anaconda3/lib/python3.12/site-packages/sklearn/neighbors/_classification.py:238: DataConversionWarning: A column-vector y was passed when a 1d array was expected. Please change the shape of y to (n_samples,), for example using ravel().\n",
      "  return self._fit(X, y)\n",
      "/opt/anaconda3/lib/python3.12/site-packages/sklearn/neighbors/_classification.py:238: DataConversionWarning: A column-vector y was passed when a 1d array was expected. Please change the shape of y to (n_samples,), for example using ravel().\n",
      "  return self._fit(X, y)\n",
      "/opt/anaconda3/lib/python3.12/site-packages/sklearn/neighbors/_classification.py:238: DataConversionWarning: A column-vector y was passed when a 1d array was expected. Please change the shape of y to (n_samples,), for example using ravel().\n",
      "  return self._fit(X, y)\n",
      "/opt/anaconda3/lib/python3.12/site-packages/sklearn/neighbors/_classification.py:238: DataConversionWarning: A column-vector y was passed when a 1d array was expected. Please change the shape of y to (n_samples,), for example using ravel().\n",
      "  return self._fit(X, y)\n"
     ]
    },
    {
     "data": {
      "image/png": "[encoded data removed]",
      "text/plain": [
       "<Figure size 640x480 with 1 Axes>"
      ]
     },
     "metadata": {},
     "output_type": "display_data"
    }
   ],
   "source": [
    "knn = KNeighborsClassifier(n_neighbors=7) \n",
    "knn.fit(df_X_train, df_y_train)\n",
    "print(knn.predict(df_X_test)) \n",
    "\n",
    "neighbors = np.arange(1, 9) \n",
    "train_accuracy = np.empty(len(neighbors)) \n",
    "test_accuracy = np.empty(len(neighbors)) \n",
    "\n",
    "for i, k in enumerate(neighbors): \n",
    "    knn = KNeighborsClassifier(n_neighbors=k) \n",
    "    knn.fit(df_X_train, df_y_train) \n",
    "      \n",
    "    # Compute training and test data accuracy \n",
    "    train_accuracy[i] = knn.score(df_X_train, df_y_train) \n",
    "    test_accuracy[i] = knn.score(df_X_test, df_y_test) \n",
    "  \n",
    "# Generate plot \n",
    "plt.plot(neighbors, test_accuracy, label = 'Testing dataset Accuracy') \n",
    "plt.plot(neighbors, train_accuracy, label = 'Training dataset Accuracy') \n",
    "  \n",
    "plt.legend() \n",
    "plt.xlabel('n_neighbors') \n",
    "plt.ylabel('Accuracy') \n",
    "plt.show() "
   ]
  },
  {
   "cell_type": "markdown",
   "id": "12057ba0",
   "metadata": {},
   "source": [
    "## Model Evaluation\n",
    "\n",
    "After training your models, it's crucial to evaluate their performance to understand their effectiveness and limitations. This section outlines various techniques and metrics to assess the performance of each model you have implemented.\n",
    "\n",
    "### Evaluation Techniques\n",
    "1. **Confusion Matrix**\n",
    "\n",
    "2. **Accuracy**\n",
    "\n",
    "3. **Precision and Recall**\n",
    "\n",
    "4. **F1 Score**\n",
    "\n",
    "5. **ROC Curve and AUC**\n",
    "\n",
    "### Implementing Evaluation\n",
    "- Calculate the metrics listed above using your test data."
   ]
  },
  {
   "cell_type": "code",
   "execution_count": 198,
   "id": "c8328067",
   "metadata": {},
   "outputs": [
    {
     "name": "stderr",
     "output_type": "stream",
     "text": [
      "/opt/anaconda3/lib/python3.12/site-packages/sklearn/base.py:1473: DataConversionWarning: A column-vector y was passed when a 1d array was expected. Please change the shape of y to (n_samples,), for example using ravel().\n",
      "  return fit_method(estimator, *args, **kwargs)\n"
     ]
    },
    {
     "name": "stdout",
     "output_type": "stream",
     "text": [
      "Accuracy is :  0.18601992487342806\n",
      "Confusion Matrix is : [[   0 8347    0    0    0    0    0    0]\n",
      " [   0 2278    0    0    0    0    0    0]\n",
      " [   0  909    0    0    0    0    0    0]\n",
      " [   0  386    0    0    0    0    0    0]\n",
      " [   0  207    0    0    0    0    0    0]\n",
      " [   0   89    0    0    0    0    0    0]\n",
      " [   0   22    0    0    0    0    0    0]\n",
      " [   0    8    0    0    0    0    0    0]]\n"
     ]
    }
   ],
   "source": [
    "model = RandomForestClassifier()\n",
    "model.fit(df_X_train, df_y_train)\n",
    "\n",
    "y_pred = model.predict(df_X_train)\n",
    "accuracy = accuracy_score(df_X_train ,y_pred )\n",
    "print(\"Accuracy is : \",accuracy)\n",
    "\n",
    "matrix = confusion_matrix(df_X_train , y_pred)\n",
    "print(\"Confusion Matrix is :\", matrix)"
   ]
  },
  {
   "cell_type": "markdown",
   "id": "3deb2b58-8059-4493-80f7-f78a95f0fb3d",
   "metadata": {},
   "source": [
    "## Project Questions:\n",
    "\n",
    "### Comparative Analysis\n",
    "\n",
    "- **Compare Metrics**: Examine the performance metrics (such as accuracy, precision, and recall) of each model. Document your observations on which model performs best for your dataset and the problem you're addressing.\n",
    "- **Evaluate Trade-offs**: Discuss the trade-offs you encountered when choosing between models. Consider factors like computational efficiency, ease of implementation, and model interpretability.\n",
    "- **Justify Your Choice**: After comparing and evaluating, explain why you believe one model is the best choice. Provide a clear rationale based on the performance metrics and trade-offs discussed.\n",
    "- **Feature Importance**: Identify and discuss the most important features for the best-performing model. How do these features impact the predictions? Use the visualizations you have created to justify your answer if necessary.\n",
    "- **Model Limitations**: Discuss any limitations you encountered with the models you used. Are there any aspects of the data or the problem that these models do not handle well?\n",
    "- **Future Improvements**: Suggest potential improvements or further steps you could take to enhance model performance. This could include trying different algorithms, feature engineering techniques, or tuning hyperparameters."
   ]
  },
  {
   "cell_type": "markdown",
   "id": "76425529",
   "metadata": {},
   "source": [
    "### Answer Here:"
   ]
  },
  {
   "cell_type": "code",
   "execution_count": null,
   "id": "98eac6c8-85d0-4a53-879d-7907539f4f76",
   "metadata": {},
   "outputs": [],
   "source": [
    "#Compare Metrics\n",
    "i think if there is non missing values any model well perform better \n"
   ]
  },
  {
   "cell_type": "code",
   "execution_count": 196,
   "id": "5d2dc0c7-bf53-491a-b01c-f1616fe0acf7",
   "metadata": {},
   "outputs": [],
   "source": [
    "#Evaluate Trade-offs\n",
    "# for me i thinl Logistic Regression is the one i am gonna choose first because it is gives me a clear view of the data \n"
   ]
  },
  {
   "cell_type": "code",
   "execution_count": null,
   "id": "959b6d6e-6425-4a9e-adf7-ff13255d0c87",
   "metadata": {},
   "outputs": [],
   "source": [
    "#Justify Your Choice\n",
    "#for me i thinl Logistic Regression is the one i am gonna choose first because it is gives me a clear view of the data\n"
   ]
  },
  {
   "cell_type": "code",
   "execution_count": null,
   "id": "e0436c98-b75f-4235-b12e-eef8790e58b6",
   "metadata": {},
   "outputs": [],
   "source": [
    "#Feature Importance\n",
    "\n"
   ]
  },
  {
   "cell_type": "code",
   "execution_count": null,
   "id": "5ee955e2-fa8e-46e6-8b27-d258878a3dd2",
   "metadata": {},
   "outputs": [],
   "source": [
    "#Model Limitations:\n",
    "\n"
   ]
  },
  {
   "cell_type": "code",
   "execution_count": null,
   "id": "bbd0341e-670a-43df-a158-d4c9a1d48657",
   "metadata": {},
   "outputs": [],
   "source": [
    "#Future Improvements\n",
    "\n"
   ]
  }
 ],
 "metadata": {
  "kernelspec": {
   "display_name": "Python 3 (ipykernel)",
   "language": "python",
   "name": "python3"
  },
  "language_info": {
   "codemirror_mode": {
    "name": "ipython",
    "version": 3
   },
   "file_extension": ".py",
   "mimetype": "text/x-python",
   "name": "python",
   "nbconvert_exporter": "python",
   "pygments_lexer": "ipython3",
   "version": "3.12.2"
  }
 },
 "nbformat": 4,
 "nbformat_minor": 5
}
